{
 "cells": [
  {
   "cell_type": "markdown",
   "metadata": {},
   "source": [
    "# Softmax exercise\n",
    "\n",
    "*Complete and hand in this completed worksheet (including its outputs and any supporting code outside of the worksheet) with your assignment submission. For more details see the [assignments page](http://vision.stanford.edu/teaching/cs231n/assignments.html) on the course website.*\n",
    "\n",
    "This exercise is analogous to the SVM exercise. You will:\n",
    "\n",
    "- implement a fully-vectorized **loss function** for the Softmax classifier\n",
    "- implement the fully-vectorized expression for its **analytic gradient**\n",
    "- **check your implementation** with numerical gradient\n",
    "- use a validation set to **tune the learning rate and regularization** strength\n",
    "- **optimize** the loss function with **SGD**\n",
    "- **visualize** the final learned weights\n"
   ]
  },
  {
   "cell_type": "code",
   "execution_count": 19,
   "metadata": {},
   "outputs": [
    {
     "name": "stdout",
     "output_type": "stream",
     "text": [
      "The autoreload extension is already loaded. To reload it, use:\n",
      "  %reload_ext autoreload\n"
     ]
    }
   ],
   "source": [
    "import random\n",
    "import numpy as np\n",
    "from cs231n.data_utils import load_CIFAR10\n",
    "import matplotlib.pyplot as plt\n",
    "\n",
    "from __future__ import print_function\n",
    "\n",
    "%matplotlib inline\n",
    "plt.rcParams['figure.figsize'] = (10.0, 8.0) # set default size of plots\n",
    "plt.rcParams['image.interpolation'] = 'nearest'\n",
    "plt.rcParams['image.cmap'] = 'gray'\n",
    "\n",
    "# for auto-reloading extenrnal modules\n",
    "# see http://stackoverflow.com/questions/1907993/autoreload-of-modules-in-ipython\n",
    "%load_ext autoreload\n",
    "%autoreload 2"
   ]
  },
  {
   "cell_type": "code",
   "execution_count": 6,
   "metadata": {},
   "outputs": [
    {
     "name": "stdout",
     "output_type": "stream",
     "text": [
      "Clear previously loaded data.\n",
      "Train data shape:  (49000, 3073)\n",
      "Train labels shape:  (49000,)\n",
      "Validation data shape:  (1000, 3073)\n",
      "Validation labels shape:  (1000,)\n",
      "Test data shape:  (1000, 3073)\n",
      "Test labels shape:  (1000,)\n",
      "dev data shape:  (500, 3073)\n",
      "dev labels shape:  (500,)\n"
     ]
    }
   ],
   "source": [
    "def get_CIFAR10_data(num_training=49000, num_validation=1000, num_test=1000, num_dev=500):\n",
    "    \"\"\"\n",
    "    Load the CIFAR-10 dataset from disk and perform preprocessing to prepare\n",
    "    it for the linear classifier. These are the same steps as we used for the\n",
    "    SVM, but condensed to a single function.  \n",
    "    \"\"\"\n",
    "    # Load the raw CIFAR-10 data\n",
    "    cifar10_dir = 'cs231n/datasets/cifar-10-batches-py'\n",
    "    \n",
    "    X_train, y_train, X_test, y_test = load_CIFAR10(cifar10_dir)\n",
    "    \n",
    "    # subsample the data\n",
    "    mask = list(range(num_training, num_training + num_validation))\n",
    "    X_val = X_train[mask]\n",
    "    y_val = y_train[mask]\n",
    "    mask = list(range(num_training))\n",
    "    X_train = X_train[mask]\n",
    "    y_train = y_train[mask]\n",
    "    mask = list(range(num_test))\n",
    "    X_test = X_test[mask]\n",
    "    y_test = y_test[mask]\n",
    "    mask = np.random.choice(num_training, num_dev, replace=False)\n",
    "    X_dev = X_train[mask]\n",
    "    y_dev = y_train[mask]\n",
    "    \n",
    "    # Preprocessing: reshape the image data into rows\n",
    "    X_train = np.reshape(X_train, (X_train.shape[0], -1))\n",
    "    X_val = np.reshape(X_val, (X_val.shape[0], -1))\n",
    "    X_test = np.reshape(X_test, (X_test.shape[0], -1))\n",
    "    X_dev = np.reshape(X_dev, (X_dev.shape[0], -1))\n",
    "    \n",
    "    # Normalize the data: subtract the mean image\n",
    "    mean_image = np.mean(X_train, axis = 0)\n",
    "    X_train -= mean_image\n",
    "    X_val -= mean_image\n",
    "    X_test -= mean_image\n",
    "    X_dev -= mean_image\n",
    "    \n",
    "    # add bias dimension and transform into columns\n",
    "    X_train = np.hstack([X_train, np.ones((X_train.shape[0], 1))])\n",
    "    X_val = np.hstack([X_val, np.ones((X_val.shape[0], 1))])\n",
    "    X_test = np.hstack([X_test, np.ones((X_test.shape[0], 1))])\n",
    "    X_dev = np.hstack([X_dev, np.ones((X_dev.shape[0], 1))])\n",
    "    \n",
    "    return X_train, y_train, X_val, y_val, X_test, y_test, X_dev, y_dev\n",
    "\n",
    "\n",
    "# Cleaning up variables to prevent loading data multiple times (which may cause memory issue)\n",
    "try:\n",
    "   del X_train, y_train\n",
    "   del X_test, y_test\n",
    "   print('Clear previously loaded data.')\n",
    "except:\n",
    "   pass\n",
    "\n",
    "# Invoke the above function to get our data.\n",
    "X_train, y_train, X_val, y_val, X_test, y_test, X_dev, y_dev = get_CIFAR10_data()\n",
    "print('Train data shape: ', X_train.shape)\n",
    "print('Train labels shape: ', y_train.shape)\n",
    "print('Validation data shape: ', X_val.shape)\n",
    "print('Validation labels shape: ', y_val.shape)\n",
    "print('Test data shape: ', X_test.shape)\n",
    "print('Test labels shape: ', y_test.shape)\n",
    "print('dev data shape: ', X_dev.shape)\n",
    "print('dev labels shape: ', y_dev.shape)"
   ]
  },
  {
   "cell_type": "markdown",
   "metadata": {},
   "source": [
    "## Softmax Classifier\n",
    "\n",
    "Your code for this section will all be written inside **cs231n/classifiers/softmax.py**. \n"
   ]
  },
  {
   "cell_type": "code",
   "execution_count": 20,
   "metadata": {},
   "outputs": [
    {
     "name": "stdout",
     "output_type": "stream",
     "text": [
      "loss: 2.403860\n",
      "sanity check: 2.302585\n"
     ]
    }
   ],
   "source": [
    "# First implement the naive softmax loss function with nested loops.\n",
    "# Open the file cs231n/classifiers/softmax.py and implement the\n",
    "# softmax_loss_naive function.\n",
    "\n",
    "from cs231n.classifiers.softmax import softmax_loss_naive\n",
    "import time\n",
    "\n",
    "# Generate a random softmax weight matrix and use it to compute the loss.\n",
    "W = np.random.randn(3073, 10) * 0.0001\n",
    "loss, grad = softmax_loss_naive(W, X_dev, y_dev, 0.0)\n",
    "\n",
    "# As a rough sanity check, our loss should be something close to -log(0.1).\n",
    "print('loss: %f' % loss)\n",
    "print('sanity check: %f' % (-np.log(0.1)))"
   ]
  },
  {
   "cell_type": "markdown",
   "metadata": {},
   "source": [
    "## Inline Question 1:\n",
    "Why do we expect our loss to be close to -log(0.1)? Explain briefly.**\n",
    "\n",
    "**Your answer: The probability of guess is 10%(0.1) \n"
   ]
  },
  {
   "cell_type": "code",
   "execution_count": 21,
   "metadata": {},
   "outputs": [
    {
     "name": "stdout",
     "output_type": "stream",
     "text": [
      "numerical: 1.253483 analytic: 1.253483, relative error: 6.277372e-08\n",
      "numerical: -2.466984 analytic: -2.466984, relative error: 1.266572e-08\n",
      "numerical: 0.324607 analytic: 0.324607, relative error: 2.080306e-07\n",
      "numerical: 1.134993 analytic: 1.134993, relative error: 1.001552e-09\n",
      "numerical: 1.174947 analytic: 1.174947, relative error: 2.257073e-08\n",
      "numerical: 1.716088 analytic: 1.716088, relative error: 7.075339e-09\n",
      "numerical: -1.971461 analytic: -1.971461, relative error: 1.392391e-08\n",
      "numerical: -0.358434 analytic: -0.358434, relative error: 4.414870e-08\n",
      "numerical: -2.220759 analytic: -2.220759, relative error: 3.418532e-08\n",
      "numerical: 0.042196 analytic: 0.042196, relative error: 1.529581e-06\n",
      "numerical: 1.096291 analytic: 1.107236, relative error: 4.967044e-03\n",
      "numerical: -2.559551 analytic: -2.570413, relative error: 2.117434e-03\n",
      "numerical: 1.733571 analytic: 1.721017, relative error: 3.634021e-03\n",
      "numerical: 1.989081 analytic: 1.988451, relative error: 1.585056e-04\n",
      "numerical: 0.263437 analytic: 0.255506, relative error: 1.528208e-02\n",
      "numerical: 5.037571 analytic: 5.049492, relative error: 1.181777e-03\n",
      "numerical: -2.356850 analytic: -2.350954, relative error: 1.252355e-03\n",
      "numerical: 1.302466 analytic: 1.289478, relative error: 5.011104e-03\n",
      "numerical: -4.868061 analytic: -4.869119, relative error: 1.086388e-04\n",
      "numerical: -0.304267 analytic: -0.291689, relative error: 2.110530e-02\n"
     ]
    }
   ],
   "source": [
    "# Complete the implementation of softmax_loss_naive and implement a (naive)\n",
    "# version of the gradient that uses nested loops.\n",
    "loss, grad = softmax_loss_naive(W, X_dev, y_dev, 0.0)\n",
    "\n",
    "# As we did for the SVM, use numeric gradient checking as a debugging tool.\n",
    "# The numeric gradient should be close to the analytic gradient.\n",
    "from cs231n.gradient_check import grad_check_sparse\n",
    "f = lambda w: softmax_loss_naive(w, X_dev, y_dev, 0.0)[0]\n",
    "grad_numerical = grad_check_sparse(f, W, grad, 10)\n",
    "\n",
    "# similar to SVM case, do another gradient check with regularization\n",
    "loss, grad = softmax_loss_naive(W, X_dev, y_dev, 5e1)\n",
    "f = lambda w: softmax_loss_naive(w, X_dev, y_dev, 5e1)[0]\n",
    "grad_numerical = grad_check_sparse(f, W, grad, 10)"
   ]
  },
  {
   "cell_type": "code",
   "execution_count": 50,
   "metadata": {},
   "outputs": [
    {
     "name": "stdout",
     "output_type": "stream",
     "text": [
      "naive loss: 2.403860e+00 computed in 0.139972s\n",
      "vectorized loss: 2.403860e+00 computed in 0.005039s\n",
      "Loss difference: 0.000000\n",
      "Gradient difference: 0.000000\n"
     ]
    }
   ],
   "source": [
    "# Now that we have a naive implementation of the softmax loss function and its gradient,\n",
    "# implement a vectorized version in softmax_loss_vectorized.\n",
    "# The two versions should compute the same results, but the vectorized version should be\n",
    "# much faster.\n",
    "tic = time.time()\n",
    "loss_naive, grad_naive = softmax_loss_naive(W, X_dev, y_dev, 0.000005)\n",
    "toc = time.time()\n",
    "print('naive loss: %e computed in %fs' % (loss_naive, toc - tic))\n",
    "\n",
    "from cs231n.classifiers.softmax import softmax_loss_vectorized\n",
    "tic = time.time()\n",
    "loss_vectorized, grad_vectorized = softmax_loss_vectorized(W, X_dev, y_dev, 0.000005)\n",
    "toc = time.time()\n",
    "print('vectorized loss: %e computed in %fs' % (loss_vectorized, toc - tic))\n",
    "\n",
    "# As we did for the SVM, we use the Frobenius norm to compare the two versions\n",
    "# of the gradient.\n",
    "grad_difference = np.linalg.norm(grad_naive - grad_vectorized, ord='fro')\n",
    "print('Loss difference: %f' % np.abs(loss_naive - loss_vectorized))\n",
    "print('Gradient difference: %f' % grad_difference)"
   ]
  },
  {
   "cell_type": "code",
   "execution_count": 53,
   "metadata": {},
   "outputs": [
    {
     "name": "stdout",
     "output_type": "stream",
     "text": [
      "iteration 0 / 3000: loss 769.232031\n",
      "iteration 100 / 3000: loss 765.811359\n",
      "iteration 200 / 3000: loss 764.002205\n",
      "iteration 300 / 3000: loss 763.185490\n",
      "iteration 400 / 3000: loss 761.963876\n",
      "iteration 500 / 3000: loss 760.722872\n",
      "iteration 600 / 3000: loss 759.939830\n",
      "iteration 700 / 3000: loss 758.877112\n",
      "iteration 800 / 3000: loss 758.227510\n",
      "iteration 900 / 3000: loss 757.146580\n",
      "iteration 1000 / 3000: loss 756.579082\n",
      "iteration 1100 / 3000: loss 755.971032\n",
      "iteration 1200 / 3000: loss 755.047322\n",
      "iteration 1300 / 3000: loss 754.462656\n",
      "iteration 1400 / 3000: loss 753.865501\n",
      "iteration 1500 / 3000: loss 753.271241\n",
      "iteration 1600 / 3000: loss 752.613338\n",
      "iteration 1700 / 3000: loss 752.028454\n",
      "iteration 1800 / 3000: loss 751.480781\n",
      "iteration 1900 / 3000: loss 750.576890\n",
      "iteration 2000 / 3000: loss 750.308663\n",
      "iteration 2100 / 3000: loss 749.642452\n",
      "iteration 2200 / 3000: loss 749.047023\n",
      "iteration 2300 / 3000: loss 748.544890\n",
      "iteration 2400 / 3000: loss 748.218170\n",
      "iteration 2500 / 3000: loss 747.555343\n",
      "iteration 2600 / 3000: loss 746.968966\n",
      "iteration 2700 / 3000: loss 746.663718\n",
      "iteration 2800 / 3000: loss 745.990165\n",
      "iteration 2900 / 3000: loss 745.499548\n",
      "training accuracy: 0.276551\n",
      "validation accuracy: 0.267000\n",
      "iteration 0 / 3000: loss 1549.768614\n",
      "iteration 100 / 3000: loss 1543.342913\n",
      "iteration 200 / 3000: loss 1540.466867\n",
      "iteration 300 / 3000: loss 1538.079029\n",
      "iteration 400 / 3000: loss 1535.765350\n",
      "iteration 500 / 3000: loss 1533.710483\n",
      "iteration 600 / 3000: loss 1531.784429\n",
      "iteration 700 / 3000: loss 1530.138389\n",
      "iteration 800 / 3000: loss 1528.480347\n",
      "iteration 900 / 3000: loss 1526.934081\n",
      "iteration 1000 / 3000: loss 1525.394786\n",
      "iteration 1100 / 3000: loss 1524.101936\n",
      "iteration 1200 / 3000: loss 1522.586515\n",
      "iteration 1300 / 3000: loss 1521.053459\n",
      "iteration 1400 / 3000: loss 1519.653214\n",
      "iteration 1500 / 3000: loss 1518.548485\n",
      "iteration 1600 / 3000: loss 1517.588859\n",
      "iteration 1700 / 3000: loss 1515.869273\n",
      "iteration 1800 / 3000: loss 1514.929734\n",
      "iteration 1900 / 3000: loss 1513.733375\n",
      "iteration 2000 / 3000: loss 1512.748722\n",
      "iteration 2100 / 3000: loss 1511.520795\n",
      "iteration 2200 / 3000: loss 1510.508694\n",
      "iteration 2300 / 3000: loss 1509.366653\n",
      "iteration 2400 / 3000: loss 1508.274313\n",
      "iteration 2500 / 3000: loss 1507.434660\n",
      "iteration 2600 / 3000: loss 1506.302201\n",
      "iteration 2700 / 3000: loss 1505.268132\n",
      "iteration 2800 / 3000: loss 1504.321061\n",
      "iteration 2900 / 3000: loss 1503.264536\n",
      "training accuracy: 0.279673\n",
      "validation accuracy: 0.271000\n",
      "iteration 0 / 3000: loss 778.697576\n",
      "iteration 100 / 3000: loss 768.438399\n",
      "iteration 200 / 3000: loss 764.178613\n",
      "iteration 300 / 3000: loss 760.566657\n",
      "iteration 400 / 3000: loss 757.506586\n",
      "iteration 500 / 3000: loss 754.748533\n",
      "iteration 600 / 3000: loss 752.474173\n",
      "iteration 700 / 3000: loss 750.129614\n",
      "iteration 800 / 3000: loss 747.953694\n",
      "iteration 900 / 3000: loss 745.722841\n",
      "iteration 1000 / 3000: loss 744.072145\n",
      "iteration 1100 / 3000: loss 742.128796\n",
      "iteration 1200 / 3000: loss 740.467907\n",
      "iteration 1300 / 3000: loss 738.553429\n",
      "iteration 1400 / 3000: loss 736.957670\n",
      "iteration 1500 / 3000: loss 735.696415\n",
      "iteration 1600 / 3000: loss 733.653928\n",
      "iteration 1700 / 3000: loss 732.303634\n",
      "iteration 1800 / 3000: loss 730.993505\n",
      "iteration 1900 / 3000: loss 729.538203\n",
      "iteration 2000 / 3000: loss 728.334426\n",
      "iteration 2100 / 3000: loss 727.065089\n",
      "iteration 2200 / 3000: loss 725.829040\n",
      "iteration 2300 / 3000: loss 724.733423\n",
      "iteration 2400 / 3000: loss 723.415828\n",
      "iteration 2500 / 3000: loss 722.272175\n",
      "iteration 2600 / 3000: loss 721.388034\n",
      "iteration 2700 / 3000: loss 720.156588\n",
      "iteration 2800 / 3000: loss 719.162651\n",
      "iteration 2900 / 3000: loss 718.174308\n",
      "training accuracy: 0.350673\n",
      "validation accuracy: 0.350000\n",
      "iteration 0 / 3000: loss 1545.699843\n",
      "iteration 100 / 3000: loss 1530.005840\n",
      "iteration 200 / 3000: loss 1522.078844\n",
      "iteration 300 / 3000: loss 1515.216106\n",
      "iteration 400 / 3000: loss 1509.493049\n",
      "iteration 500 / 3000: loss 1503.931587\n",
      "iteration 600 / 3000: loss 1498.976601\n",
      "iteration 700 / 3000: loss 1494.146152\n",
      "iteration 800 / 3000: loss 1489.637133\n",
      "iteration 900 / 3000: loss 1485.556575\n",
      "iteration 1000 / 3000: loss 1481.806453\n",
      "iteration 1100 / 3000: loss 1478.052628\n",
      "iteration 1200 / 3000: loss 1474.673683\n",
      "iteration 1300 / 3000: loss 1471.601416\n",
      "iteration 1400 / 3000: loss 1468.341977\n",
      "iteration 1500 / 3000: loss 1465.290604\n",
      "iteration 1600 / 3000: loss 1462.319869\n",
      "iteration 1700 / 3000: loss 1459.561516\n",
      "iteration 1800 / 3000: loss 1456.572140\n",
      "iteration 1900 / 3000: loss 1454.185095\n",
      "iteration 2000 / 3000: loss 1451.373818\n",
      "iteration 2100 / 3000: loss 1449.065301\n",
      "iteration 2200 / 3000: loss 1446.606504\n",
      "iteration 2300 / 3000: loss 1444.499500\n",
      "iteration 2400 / 3000: loss 1442.164717\n",
      "iteration 2500 / 3000: loss 1439.954137\n",
      "iteration 2600 / 3000: loss 1437.832694\n",
      "iteration 2700 / 3000: loss 1435.582928\n",
      "iteration 2800 / 3000: loss 1433.500138\n",
      "iteration 2900 / 3000: loss 1431.578852\n",
      "training accuracy: 0.350265\n",
      "validation accuracy: 0.340000\n",
      "lr 1.000000e-07 reg 2.500000e+04 train accuracy: 0.276551 val accuracy: 0.267000\n",
      "lr 1.000000e-07 reg 5.000000e+04 train accuracy: 0.279673 val accuracy: 0.271000\n",
      "lr 5.000000e-07 reg 2.500000e+04 train accuracy: 0.350673 val accuracy: 0.350000\n",
      "lr 5.000000e-07 reg 5.000000e+04 train accuracy: 0.350265 val accuracy: 0.340000\n",
      "best validation accuracy achieved during cross-validation: 0.350000\n"
     ]
    }
   ],
   "source": [
    "# Use the validation set to tune hyperparameters (regularization strength and\n",
    "# learning rate). You should experiment with different ranges for the learning\n",
    "# rates and regularization strengths; if you are careful you should be able to\n",
    "# get a classification accuracy of over 0.35 on the validation set.\n",
    "from cs231n.classifiers import Softmax\n",
    "results = {}\n",
    "best_val = -1\n",
    "best_softmax = None\n",
    "learning_rates = [1e-7, 5e-7]\n",
    "regularization_strengths = [2.5e4, 5e4]\n",
    "\n",
    "################################################################################\n",
    "# TODO:                                                                        #\n",
    "# Use the validation set to set the learning rate and regularization strength. #\n",
    "# This should be identical to the validation that you did for the SVM; save    #\n",
    "# the best trained softmax classifer in best_softmax.                          #\n",
    "################################################################################\n",
    "for lr in learning_rates:\n",
    "    for rs in regularization_strengths: \n",
    "        softmax = Softmax()\n",
    "        softmax.train(X_train, y_train, learning_rate=lr, reg=rs, num_iters=3000, verbose=True)\n",
    "        y_train_pred = softmax.predict(X_train)\n",
    "        current_train_val = np.mean(y_train == y_train_pred)\n",
    "        print('training accuracy: %f' % (current_train_val, ))\n",
    "        y_val_pred = softmax.predict(X_val)\n",
    "        current_val = np.mean(y_val == y_val_pred)\n",
    "        print('validation accuracy: %f' % (current_val, ))\n",
    "        results[(lr, rs)] = (current_train_val, current_val)\n",
    "        if current_val > best_val:\n",
    "            best_val = current_val\n",
    "            best_softmax = softmax\n",
    "################################################################################\n",
    "#                              END OF YOUR CODE                                #\n",
    "################################################################################\n",
    "    \n",
    "# Print out results.\n",
    "for lr, reg in sorted(results):\n",
    "    train_accuracy, val_accuracy = results[(lr, reg)]\n",
    "    print('lr %e reg %e train accuracy: %f val accuracy: %f' % (\n",
    "                lr, reg, train_accuracy, val_accuracy))\n",
    "    \n",
    "print('best validation accuracy achieved during cross-validation: %f' % best_val)"
   ]
  },
  {
   "cell_type": "code",
   "execution_count": 54,
   "metadata": {},
   "outputs": [
    {
     "name": "stdout",
     "output_type": "stream",
     "text": [
      "softmax on raw pixels final test set accuracy: 0.342000\n"
     ]
    }
   ],
   "source": [
    "# evaluate on test set\n",
    "# Evaluate the best softmax on test set\n",
    "y_test_pred = best_softmax.predict(X_test)\n",
    "test_accuracy = np.mean(y_test == y_test_pred)\n",
    "print('softmax on raw pixels final test set accuracy: %f' % (test_accuracy, ))"
   ]
  },
  {
   "cell_type": "markdown",
   "metadata": {},
   "source": [
    "**Inline Question** - *True or False*\n",
    "\n",
    "It's possible to add a new datapoint to a training set that would leave the SVM loss unchanged, but this is not the case with the Softmax classifier loss.\n",
    "\n",
    "*Your answer*:  yes\n",
    "\n",
    "*Your explanation*: If the score of new added data is less than right one's the loss will not change, but in softmax, it's the probability, it will change if new data added "
   ]
  },
  {
   "cell_type": "code",
   "execution_count": 56,
   "metadata": {},
   "outputs": [
    {
     "data": {
      "image/png": "[encoded data removed]",
      "text/plain": [
       "<Figure size 720x576 with 10 Axes>"
      ]
     },
     "metadata": {},
     "output_type": "display_data"
    }
   ],
   "source": [
    "# Visualize the learned weights for each class\n",
    "w = best_softmax.W[:-1,:] # strip out the bias\n",
    "w = w.reshape(32, 32, 3, 10)\n",
    "\n",
    "w_min, w_max = np.min(w), np.max(w)\n",
    "\n",
    "classes = ['plane', 'car', 'bird', 'cat', 'deer', 'dog', 'frog', 'horse', 'ship', 'truck']\n",
    "for i in range(10):\n",
    "    plt.subplot(2, 5, i + 1)\n",
    "    \n",
    "    # Rescale the weights to be between 0 and 255\n",
    "    wimg = 255.0 * (w[:, :, :, i].squeeze() - w_min) / (w_max - w_min)\n",
    "    plt.imshow(wimg.astype('uint8'))\n",
    "    plt.axis('off')\n",
    "    plt.title(classes[i])"
   ]
  },
  {
   "cell_type": "code",
   "execution_count": null,
   "metadata": {},
   "outputs": [],
   "source": []
  }
 ],
 "metadata": {
  "kernelspec": {
   "display_name": "Python 3",
   "language": "python",
   "name": "python3"
  },
  "language_info": {
   "codemirror_mode": {
    "name": "ipython",
    "version": 3
   },
   "file_extension": ".py",
   "mimetype": "text/x-python",
   "name": "python",
   "nbconvert_exporter": "python",
   "pygments_lexer": "ipython3",
   "version": "3.6.5"
  }
 },
 "nbformat": 4,
 "nbformat_minor": 1
}
